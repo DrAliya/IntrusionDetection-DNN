{
 "cells": [
  {
   "cell_type": "code",
   "execution_count": 13,
   "metadata": {},
   "outputs": [],
   "source": [
    "import numpy as np\n",
    "import pandas as pd\n",
    "from sklearn.model_selection import train_test_split\n",
    "from sklearn import metrics\n",
    "from keras import layers\n",
    "from keras import models\n",
    "from tensorflow.keras.models import Sequential\n",
    "from tensorflow.keras.layers import Dense, Activation\n",
    "from keras import regularizers\n",
    "from keras.models import Sequential,Input, Model\n",
    "from keras.layers import Dense, Dropout, Flatten\n",
    "from keras.layers import Conv1D, GlobalMaxPooling1D\n",
    "from keras import optimizers\n",
    "from keras.layers.normalization import BatchNormalization\n",
    "from keras.layers.advanced_activations import LeakyReLU\n",
    "import matplotlib.pyplot as plt\n",
    "%matplotlib inline"
   ]
  },
  {
   "cell_type": "code",
   "execution_count": 14,
   "metadata": {},
   "outputs": [
    {
     "data": {
      "text/plain": [
       "'2.3.1'"
      ]
     },
     "execution_count": 14,
     "metadata": {},
     "output_type": "execute_result"
    }
   ],
   "source": [
    "import keras\n",
    "keras.__version__"
   ]
  },
  {
   "cell_type": "code",
   "execution_count": 15,
   "metadata": {},
   "outputs": [
    {
     "name": "stdout",
     "output_type": "stream",
     "text": [
      "Requirement already satisfied: pycaret in c:\\users\\admin\\miniconda3\\lib\\site-packages (2.1.2)\n",
      "Requirement already satisfied: seaborn in c:\\users\\admin\\miniconda3\\lib\\site-packages (from pycaret) (0.10.0)\n",
      "Requirement already satisfied: pandas-profiling>=2.8.0 in c:\\users\\admin\\miniconda3\\lib\\site-packages (from pycaret) (2.9.0)\n",
      "Requirement already satisfied: plotly>=4.4.1 in c:\\users\\admin\\miniconda3\\lib\\site-packages (from pycaret) (4.11.0)\n",
      "Requirement already satisfied: datefinder>=0.7.0 in c:\\users\\admin\\miniconda3\\lib\\site-packages (from pycaret) (0.7.1)\n",
      "Requirement already satisfied: gensim in c:\\users\\admin\\miniconda3\\lib\\site-packages (from pycaret) (3.8.3)\n",
      "Requirement already satisfied: matplotlib in c:\\users\\admin\\miniconda3\\lib\\site-packages (from pycaret) (3.1.3)\n",
      "Requirement already satisfied: lightgbm>=2.3.1 in c:\\users\\admin\\miniconda3\\lib\\site-packages (from pycaret) (3.0.0)\n",
      "Requirement already satisfied: spacy in c:\\users\\admin\\miniconda3\\lib\\site-packages (from pycaret) (2.3.2)\n",
      "Requirement already satisfied: pyod in c:\\users\\admin\\miniconda3\\lib\\site-packages (from pycaret) (0.8.3)\n",
      "Requirement already satisfied: mlxtend in c:\\users\\admin\\miniconda3\\lib\\site-packages (from pycaret) (0.17.3)\n",
      "Requirement already satisfied: yellowbrick>=1.0.1 in c:\\users\\admin\\miniconda3\\lib\\site-packages (from pycaret) (1.2)\n",
      "Requirement already satisfied: ipywidgets in c:\\users\\admin\\miniconda3\\lib\\site-packages (from pycaret) (7.5.1)\n",
      "Requirement already satisfied: kmodes>=0.10.1 in c:\\users\\admin\\miniconda3\\lib\\site-packages (from pycaret) (0.10.2)\n",
      "Requirement already satisfied: imbalanced-learn>=0.6.2 in c:\\users\\admin\\miniconda3\\lib\\site-packages (from pycaret) (0.7.0)\n",
      "Requirement already satisfied: textblob in c:\\users\\admin\\miniconda3\\lib\\site-packages (from pycaret) (0.15.3)\n",
      "Requirement already satisfied: catboost>=0.23.2 in c:\\users\\admin\\miniconda3\\lib\\site-packages (from pycaret) (0.24.2)\n",
      "Requirement already satisfied: pandas in c:\\users\\admin\\appdata\\roaming\\python\\python37\\site-packages (from pycaret) (0.25.3)\n",
      "Requirement already satisfied: scikit-learn>=0.23 in c:\\users\\admin\\miniconda3\\lib\\site-packages (from pycaret) (0.23.2)\n",
      "Requirement already satisfied: IPython in c:\\users\\admin\\miniconda3\\lib\\site-packages (from pycaret) (7.12.0)\n",
      "Requirement already satisfied: cufflinks>=0.17.0 in c:\\users\\admin\\miniconda3\\lib\\site-packages (from pycaret) (0.17.3)\n",
      "Requirement already satisfied: pyLDAvis in c:\\users\\admin\\miniconda3\\lib\\site-packages (from pycaret) (2.1.2)\n",
      "Requirement already satisfied: joblib in c:\\users\\admin\\miniconda3\\lib\\site-packages (from pycaret) (0.14.1)\n",
      "Requirement already satisfied: umap-learn in c:\\users\\admin\\miniconda3\\lib\\site-packages (from pycaret) (0.4.6)\n",
      "Requirement already satisfied: mlflow in c:\\users\\admin\\miniconda3\\lib\\site-packages (from pycaret) (1.11.0)\n",
      "Requirement already satisfied: xgboost>=0.90 in c:\\users\\admin\\miniconda3\\lib\\site-packages (from pycaret) (1.2.0)\n",
      "Requirement already satisfied: numpy>=1.17 in c:\\users\\admin\\appdata\\roaming\\python\\python37\\site-packages (from pycaret) (1.18.1)\n",
      "Requirement already satisfied: wordcloud in c:\\users\\admin\\miniconda3\\lib\\site-packages (from pycaret) (1.8.0)\n",
      "Requirement already satisfied: nltk in c:\\users\\admin\\miniconda3\\lib\\site-packages (from pycaret) (3.5)\n",
      "Requirement already satisfied: scipy>=1.0.1 in c:\\users\\admin\\miniconda3\\lib\\site-packages (from seaborn->pycaret) (1.4.1)\n",
      "Requirement already satisfied: htmlmin>=0.1.12 in c:\\users\\admin\\miniconda3\\lib\\site-packages (from pandas-profiling>=2.8.0->pycaret) (0.1.12)\n",
      "Requirement already satisfied: tangled-up-in-unicode>=0.0.6 in c:\\users\\admin\\miniconda3\\lib\\site-packages (from pandas-profiling>=2.8.0->pycaret) (0.0.6)\n",
      "Requirement already satisfied: missingno>=0.4.2 in c:\\users\\admin\\miniconda3\\lib\\site-packages (from pandas-profiling>=2.8.0->pycaret) (0.4.2)\n",
      "Requirement already satisfied: tqdm>=4.43.0 in c:\\users\\admin\\miniconda3\\lib\\site-packages (from pandas-profiling>=2.8.0->pycaret) (4.50.2)\n",
      "Requirement already satisfied: confuse>=1.0.0 in c:\\users\\admin\\miniconda3\\lib\\site-packages (from pandas-profiling>=2.8.0->pycaret) (1.3.0)\n",
      "Requirement already satisfied: phik>=0.9.10 in c:\\users\\admin\\miniconda3\\lib\\site-packages (from pandas-profiling>=2.8.0->pycaret) (0.10.0)\n",
      "Requirement already satisfied: jinja2>=2.11.1 in c:\\users\\admin\\miniconda3\\lib\\site-packages (from pandas-profiling>=2.8.0->pycaret) (2.11.1)\n",
      "Requirement already satisfied: visions[type_image_path]==0.5.0 in c:\\users\\admin\\miniconda3\\lib\\site-packages (from pandas-profiling>=2.8.0->pycaret) (0.5.0)\n",
      "Requirement already satisfied: attrs>=19.3.0 in c:\\users\\admin\\miniconda3\\lib\\site-packages (from pandas-profiling>=2.8.0->pycaret) (19.3.0)\n",
      "Requirement already satisfied: requests>=2.23.0 in c:\\users\\admin\\miniconda3\\lib\\site-packages (from pandas-profiling>=2.8.0->pycaret) (2.24.0)\n",
      "Requirement already satisfied: retrying>=1.3.3 in c:\\users\\admin\\miniconda3\\lib\\site-packages (from plotly>=4.4.1->pycaret) (1.3.3)\n",
      "Requirement already satisfied: six in c:\\users\\admin\\miniconda3\\lib\\site-packages (from plotly>=4.4.1->pycaret) (1.14.0)\n",
      "Requirement already satisfied: python-dateutil>=2.4.2 in c:\\users\\admin\\miniconda3\\lib\\site-packages (from datefinder>=0.7.0->pycaret) (2.8.1)\n",
      "Requirement already satisfied: regex>=2017.02.08 in c:\\users\\admin\\miniconda3\\lib\\site-packages (from datefinder>=0.7.0->pycaret) (2020.10.11)\n",
      "Requirement already satisfied: pytz in c:\\users\\admin\\appdata\\roaming\\python\\python37\\site-packages (from datefinder>=0.7.0->pycaret) (2019.3)\n",
      "Requirement already satisfied: Cython==0.29.14 in c:\\users\\admin\\miniconda3\\lib\\site-packages (from gensim->pycaret) (0.29.14)\n",
      "Requirement already satisfied: smart-open>=1.8.1 in c:\\users\\admin\\miniconda3\\lib\\site-packages (from gensim->pycaret) (3.0.0)\n",
      "Requirement already satisfied: kiwisolver>=1.0.1 in c:\\users\\admin\\miniconda3\\lib\\site-packages (from matplotlib->pycaret) (1.1.0)\n",
      "Requirement already satisfied: pyparsing!=2.0.4,!=2.1.2,!=2.1.6,>=2.0.1 in c:\\users\\admin\\miniconda3\\lib\\site-packages (from matplotlib->pycaret) (2.4.6)\n",
      "Requirement already satisfied: cycler>=0.10 in c:\\users\\admin\\miniconda3\\lib\\site-packages (from matplotlib->pycaret) (0.10.0)\n",
      "Requirement already satisfied: wasabi<1.1.0,>=0.4.0 in c:\\users\\admin\\miniconda3\\lib\\site-packages (from spacy->pycaret) (0.8.0)\n",
      "Requirement already satisfied: blis<0.5.0,>=0.4.0 in c:\\users\\admin\\miniconda3\\lib\\site-packages (from spacy->pycaret) (0.4.1)\n",
      "Requirement already satisfied: preshed<3.1.0,>=3.0.2 in c:\\users\\admin\\miniconda3\\lib\\site-packages (from spacy->pycaret) (3.0.2)\n",
      "Requirement already satisfied: catalogue<1.1.0,>=0.0.7 in c:\\users\\admin\\miniconda3\\lib\\site-packages (from spacy->pycaret) (1.0.0)\n",
      "Requirement already satisfied: murmurhash<1.1.0,>=0.28.0 in c:\\users\\admin\\miniconda3\\lib\\site-packages (from spacy->pycaret) (1.0.2)\n",
      "Requirement already satisfied: thinc==7.4.1 in c:\\users\\admin\\miniconda3\\lib\\site-packages (from spacy->pycaret) (7.4.1)\n",
      "Requirement already satisfied: srsly<1.1.0,>=1.0.2 in c:\\users\\admin\\miniconda3\\lib\\site-packages (from spacy->pycaret) (1.0.2)\n",
      "Requirement already satisfied: setuptools in c:\\users\\admin\\miniconda3\\lib\\site-packages (from spacy->pycaret) (45.2.0.post20200210)\n",
      "Requirement already satisfied: plac<1.2.0,>=0.9.6 in c:\\users\\admin\\miniconda3\\lib\\site-packages (from spacy->pycaret) (1.1.3)\n",
      "Requirement already satisfied: cymem<2.1.0,>=2.0.2 in c:\\users\\admin\\miniconda3\\lib\\site-packages (from spacy->pycaret) (2.0.3)\n",
      "Requirement already satisfied: numba>=0.35 in c:\\users\\admin\\miniconda3\\lib\\site-packages (from pyod->pycaret) (0.51.2)\n",
      "Requirement already satisfied: combo in c:\\users\\admin\\miniconda3\\lib\\site-packages (from pyod->pycaret) (0.1.1)\n",
      "Requirement already satisfied: statsmodels in c:\\users\\admin\\miniconda3\\lib\\site-packages (from pyod->pycaret) (0.12.0)\n",
      "Requirement already satisfied: suod in c:\\users\\admin\\miniconda3\\lib\\site-packages (from pyod->pycaret) (0.0.4)\n",
      "Requirement already satisfied: widgetsnbextension~=3.5.0 in c:\\users\\admin\\miniconda3\\lib\\site-packages (from ipywidgets->pycaret) (3.5.1)\n",
      "Requirement already satisfied: nbformat>=4.2.0 in c:\\users\\admin\\miniconda3\\lib\\site-packages (from ipywidgets->pycaret) (5.0.4)\n",
      "Requirement already satisfied: ipykernel>=4.5.1 in c:\\users\\admin\\miniconda3\\lib\\site-packages (from ipywidgets->pycaret) (5.1.4)\n",
      "Requirement already satisfied: traitlets>=4.3.1 in c:\\users\\admin\\miniconda3\\lib\\site-packages (from ipywidgets->pycaret) (4.3.3)\n",
      "Requirement already satisfied: graphviz in c:\\users\\admin\\miniconda3\\lib\\site-packages (from catboost>=0.23.2->pycaret) (0.13.2)\n",
      "Requirement already satisfied: threadpoolctl>=2.0.0 in c:\\users\\admin\\miniconda3\\lib\\site-packages (from scikit-learn>=0.23->pycaret) (2.1.0)\n",
      "Requirement already satisfied: pickleshare in c:\\users\\admin\\miniconda3\\lib\\site-packages (from IPython->pycaret) (0.7.5)\n",
      "Requirement already satisfied: decorator in c:\\users\\admin\\miniconda3\\lib\\site-packages (from IPython->pycaret) (4.4.1)\n",
      "Requirement already satisfied: pygments in c:\\users\\admin\\miniconda3\\lib\\site-packages (from IPython->pycaret) (2.5.2)\n",
      "Requirement already satisfied: backcall in c:\\users\\admin\\miniconda3\\lib\\site-packages (from IPython->pycaret) (0.1.0)\n",
      "Requirement already satisfied: prompt-toolkit!=3.0.0,!=3.0.1,<3.1.0,>=2.0.0 in c:\\users\\admin\\miniconda3\\lib\\site-packages (from IPython->pycaret) (3.0.3)\n",
      "Requirement already satisfied: jedi>=0.10 in c:\\users\\admin\\miniconda3\\lib\\site-packages (from IPython->pycaret) (0.16.0)\n",
      "Requirement already satisfied: colorama; sys_platform == \"win32\" in c:\\users\\admin\\miniconda3\\lib\\site-packages (from IPython->pycaret) (0.4.3)\n",
      "Requirement already satisfied: colorlover>=0.2.1 in c:\\users\\admin\\miniconda3\\lib\\site-packages (from cufflinks>=0.17.0->pycaret) (0.3.0)\n",
      "Requirement already satisfied: wheel>=0.23.0 in c:\\users\\admin\\miniconda3\\lib\\site-packages (from pyLDAvis->pycaret) (0.34.2)\n",
      "Requirement already satisfied: funcy in c:\\users\\admin\\miniconda3\\lib\\site-packages (from pyLDAvis->pycaret) (1.15)\n",
      "Requirement already satisfied: pytest in c:\\users\\admin\\miniconda3\\lib\\site-packages (from pyLDAvis->pycaret) (6.1.1)\n",
      "Requirement already satisfied: future in c:\\users\\admin\\miniconda3\\lib\\site-packages (from pyLDAvis->pycaret) (0.18.2)\n",
      "Requirement already satisfied: numexpr in c:\\users\\admin\\miniconda3\\lib\\site-packages (from pyLDAvis->pycaret) (2.7.1)\n",
      "Requirement already satisfied: pyyaml in c:\\users\\admin\\miniconda3\\lib\\site-packages (from mlflow->pycaret) (5.3)\n",
      "Requirement already satisfied: gitpython>=2.1.0 in c:\\users\\admin\\miniconda3\\lib\\site-packages (from mlflow->pycaret) (3.1.9)\n",
      "Requirement already satisfied: docker>=4.0.0 in c:\\users\\admin\\miniconda3\\lib\\site-packages (from mlflow->pycaret) (4.3.1)\n",
      "Requirement already satisfied: querystring-parser in c:\\users\\admin\\miniconda3\\lib\\site-packages (from mlflow->pycaret) (1.2.4)\n",
      "Requirement already satisfied: sqlparse in c:\\users\\admin\\miniconda3\\lib\\site-packages (from mlflow->pycaret) (0.4.1)\n",
      "Requirement already satisfied: waitress; platform_system == \"Windows\" in c:\\users\\admin\\miniconda3\\lib\\site-packages (from mlflow->pycaret) (1.4.4)\n",
      "Requirement already satisfied: prometheus-flask-exporter in c:\\users\\admin\\miniconda3\\lib\\site-packages (from mlflow->pycaret) (0.18.1)\n",
      "Requirement already satisfied: cloudpickle in c:\\users\\admin\\miniconda3\\lib\\site-packages (from mlflow->pycaret) (1.6.0)\n",
      "Requirement already satisfied: azure-storage-blob>=12.0 in c:\\users\\admin\\miniconda3\\lib\\site-packages (from mlflow->pycaret) (12.5.0)\n",
      "Requirement already satisfied: click>=7.0 in c:\\users\\admin\\miniconda3\\lib\\site-packages (from mlflow->pycaret) (7.0)\n",
      "Requirement already satisfied: alembic<=1.4.1 in c:\\users\\admin\\miniconda3\\lib\\site-packages (from mlflow->pycaret) (1.4.1)\n",
      "Requirement already satisfied: entrypoints in c:\\users\\admin\\miniconda3\\lib\\site-packages (from mlflow->pycaret) (0.3)\n",
      "Requirement already satisfied: databricks-cli>=0.8.7 in c:\\users\\admin\\miniconda3\\lib\\site-packages (from mlflow->pycaret) (0.12.1)\n",
      "Requirement already satisfied: gorilla in c:\\users\\admin\\miniconda3\\lib\\site-packages (from mlflow->pycaret) (0.3.0)\n",
      "Requirement already satisfied: sqlalchemy<=1.3.13 in c:\\users\\admin\\miniconda3\\lib\\site-packages (from mlflow->pycaret) (1.3.13)\n",
      "Requirement already satisfied: Flask in c:\\users\\admin\\miniconda3\\lib\\site-packages (from mlflow->pycaret) (1.1.2)\n",
      "Requirement already satisfied: protobuf>=3.6.0 in c:\\users\\admin\\miniconda3\\lib\\site-packages (from mlflow->pycaret) (3.11.4)\n",
      "Requirement already satisfied: pillow in c:\\users\\admin\\miniconda3\\lib\\site-packages (from wordcloud->pycaret) (7.0.0)\n",
      "Requirement already satisfied: MarkupSafe>=0.23 in c:\\users\\admin\\miniconda3\\lib\\site-packages (from jinja2>=2.11.1->pandas-profiling>=2.8.0->pycaret) (1.1.1)\n",
      "Requirement already satisfied: networkx>=2.4 in c:\\users\\admin\\miniconda3\\lib\\site-packages (from visions[type_image_path]==0.5.0->pandas-profiling>=2.8.0->pycaret) (2.5)\n",
      "Requirement already satisfied: imagehash; extra == \"type_image_path\" in c:\\users\\admin\\miniconda3\\lib\\site-packages (from visions[type_image_path]==0.5.0->pandas-profiling>=2.8.0->pycaret) (4.1.0)\n",
      "Requirement already satisfied: idna<3,>=2.5 in c:\\users\\admin\\miniconda3\\lib\\site-packages (from requests>=2.23.0->pandas-profiling>=2.8.0->pycaret) (2.8)\n",
      "Requirement already satisfied: urllib3!=1.25.0,!=1.25.1,<1.26,>=1.21.1 in c:\\users\\admin\\miniconda3\\lib\\site-packages (from requests>=2.23.0->pandas-profiling>=2.8.0->pycaret) (1.25.8)\n",
      "Requirement already satisfied: chardet<4,>=3.0.2 in c:\\users\\admin\\miniconda3\\lib\\site-packages (from requests>=2.23.0->pandas-profiling>=2.8.0->pycaret) (3.0.4)\n",
      "Requirement already satisfied: certifi>=2017.4.17 in c:\\users\\admin\\miniconda3\\lib\\site-packages (from requests>=2.23.0->pandas-profiling>=2.8.0->pycaret) (2019.11.28)\n",
      "Requirement already satisfied: importlib-metadata>=0.20; python_version < \"3.8\" in c:\\users\\admin\\miniconda3\\lib\\site-packages (from catalogue<1.1.0,>=0.0.7->spacy->pycaret) (1.5.0)\n",
      "Requirement already satisfied: llvmlite<0.35,>=0.34.0.dev0 in c:\\users\\admin\\miniconda3\\lib\\site-packages (from numba>=0.35->pyod->pycaret) (0.34.0)\n",
      "Requirement already satisfied: patsy>=0.5 in c:\\users\\admin\\miniconda3\\lib\\site-packages (from statsmodels->pyod->pycaret) (0.5.1)\n",
      "Requirement already satisfied: notebook>=4.4.1 in c:\\users\\admin\\miniconda3\\lib\\site-packages (from widgetsnbextension~=3.5.0->ipywidgets->pycaret) (6.0.3)\n",
      "Requirement already satisfied: ipython-genutils in c:\\users\\admin\\miniconda3\\lib\\site-packages (from nbformat>=4.2.0->ipywidgets->pycaret) (0.2.0)\n",
      "Requirement already satisfied: jupyter-core in c:\\users\\admin\\miniconda3\\lib\\site-packages (from nbformat>=4.2.0->ipywidgets->pycaret) (4.6.1)\n",
      "Requirement already satisfied: jsonschema!=2.5.0,>=2.4 in c:\\users\\admin\\miniconda3\\lib\\site-packages (from nbformat>=4.2.0->ipywidgets->pycaret) (3.2.0)\n",
      "Requirement already satisfied: jupyter-client in c:\\users\\admin\\miniconda3\\lib\\site-packages (from ipykernel>=4.5.1->ipywidgets->pycaret) (5.3.4)\n",
      "Requirement already satisfied: tornado>=4.2 in c:\\users\\admin\\miniconda3\\lib\\site-packages (from ipykernel>=4.5.1->ipywidgets->pycaret) (6.0.3)\n",
      "Requirement already satisfied: wcwidth in c:\\users\\admin\\miniconda3\\lib\\site-packages (from prompt-toolkit!=3.0.0,!=3.0.1,<3.1.0,>=2.0.0->IPython->pycaret) (0.1.8)\n",
      "Requirement already satisfied: parso>=0.5.2 in c:\\users\\admin\\miniconda3\\lib\\site-packages (from jedi>=0.10->IPython->pycaret) (0.6.1)\n",
      "Requirement already satisfied: py>=1.8.2 in c:\\users\\admin\\miniconda3\\lib\\site-packages (from pytest->pyLDAvis->pycaret) (1.9.0)\n",
      "Requirement already satisfied: iniconfig in c:\\users\\admin\\miniconda3\\lib\\site-packages (from pytest->pyLDAvis->pycaret) (1.0.1)\n",
      "Requirement already satisfied: packaging in c:\\users\\admin\\miniconda3\\lib\\site-packages (from pytest->pyLDAvis->pycaret) (20.4)\n",
      "Requirement already satisfied: toml in c:\\users\\admin\\miniconda3\\lib\\site-packages (from pytest->pyLDAvis->pycaret) (0.10.1)\n",
      "Requirement already satisfied: pluggy<1.0,>=0.12 in c:\\users\\admin\\miniconda3\\lib\\site-packages (from pytest->pyLDAvis->pycaret) (0.13.1)\n",
      "Requirement already satisfied: atomicwrites>=1.0; sys_platform == \"win32\" in c:\\users\\admin\\miniconda3\\lib\\site-packages (from pytest->pyLDAvis->pycaret) (1.4.0)\n",
      "Requirement already satisfied: gitdb<5,>=4.0.1 in c:\\users\\admin\\miniconda3\\lib\\site-packages (from gitpython>=2.1.0->mlflow->pycaret) (4.0.5)\n",
      "Requirement already satisfied: websocket-client>=0.32.0 in c:\\users\\admin\\miniconda3\\lib\\site-packages (from docker>=4.0.0->mlflow->pycaret) (0.57.0)\n",
      "Requirement already satisfied: pywin32==227; sys_platform == \"win32\" in c:\\users\\admin\\miniconda3\\lib\\site-packages (from docker>=4.0.0->mlflow->pycaret) (227)\n",
      "Requirement already satisfied: prometheus-client in c:\\users\\admin\\miniconda3\\lib\\site-packages (from prometheus-flask-exporter->mlflow->pycaret) (0.7.1)\n",
      "Requirement already satisfied: cryptography>=2.1.4 in c:\\users\\admin\\miniconda3\\lib\\site-packages (from azure-storage-blob>=12.0->mlflow->pycaret) (2.8)\n",
      "Requirement already satisfied: msrest>=0.6.10 in c:\\users\\admin\\miniconda3\\lib\\site-packages (from azure-storage-blob>=12.0->mlflow->pycaret) (0.6.19)\n",
      "Requirement already satisfied: azure-core<2.0.0,>=1.6.0 in c:\\users\\admin\\miniconda3\\lib\\site-packages (from azure-storage-blob>=12.0->mlflow->pycaret) (1.8.2)\n",
      "Requirement already satisfied: Mako in c:\\users\\admin\\miniconda3\\lib\\site-packages (from alembic<=1.4.1->mlflow->pycaret) (1.1.3)\n",
      "Requirement already satisfied: python-editor>=0.3 in c:\\users\\admin\\miniconda3\\lib\\site-packages (from alembic<=1.4.1->mlflow->pycaret) (1.0.4)\n",
      "Requirement already satisfied: tabulate>=0.7.7 in c:\\users\\admin\\miniconda3\\lib\\site-packages (from databricks-cli>=0.8.7->mlflow->pycaret) (0.8.7)\n",
      "Requirement already satisfied: tenacity>=6.2.0 in c:\\users\\admin\\miniconda3\\lib\\site-packages (from databricks-cli>=0.8.7->mlflow->pycaret) (6.2.0)\n",
      "Requirement already satisfied: itsdangerous>=0.24 in c:\\users\\admin\\miniconda3\\lib\\site-packages (from Flask->mlflow->pycaret) (1.1.0)\n",
      "Requirement already satisfied: Werkzeug>=0.15 in c:\\users\\admin\\miniconda3\\lib\\site-packages (from Flask->mlflow->pycaret) (1.0.1)\n",
      "Requirement already satisfied: PyWavelets in c:\\users\\admin\\miniconda3\\lib\\site-packages (from imagehash; extra == \"type_image_path\"->visions[type_image_path]==0.5.0->pandas-profiling>=2.8.0->pycaret) (1.1.1)\n",
      "Requirement already satisfied: zipp>=0.5 in c:\\users\\admin\\miniconda3\\lib\\site-packages (from importlib-metadata>=0.20; python_version < \"3.8\"->catalogue<1.1.0,>=0.0.7->spacy->pycaret) (2.2.0)\n",
      "Requirement already satisfied: pyzmq>=17 in c:\\users\\admin\\miniconda3\\lib\\site-packages (from notebook>=4.4.1->widgetsnbextension~=3.5.0->ipywidgets->pycaret) (18.1.1)\n",
      "Requirement already satisfied: Send2Trash in c:\\users\\admin\\miniconda3\\lib\\site-packages (from notebook>=4.4.1->widgetsnbextension~=3.5.0->ipywidgets->pycaret) (1.5.0)\n",
      "Requirement already satisfied: nbconvert in c:\\users\\admin\\miniconda3\\lib\\site-packages (from notebook>=4.4.1->widgetsnbextension~=3.5.0->ipywidgets->pycaret) (5.6.1)\n",
      "Requirement already satisfied: terminado>=0.8.1 in c:\\users\\admin\\miniconda3\\lib\\site-packages (from notebook>=4.4.1->widgetsnbextension~=3.5.0->ipywidgets->pycaret) (0.8.3)\n",
      "Requirement already satisfied: pyrsistent>=0.14.0 in c:\\users\\admin\\miniconda3\\lib\\site-packages (from jsonschema!=2.5.0,>=2.4->nbformat>=4.2.0->ipywidgets->pycaret) (0.15.7)\n",
      "Requirement already satisfied: smmap<4,>=3.0.1 in c:\\users\\admin\\miniconda3\\lib\\site-packages (from gitdb<5,>=4.0.1->gitpython>=2.1.0->mlflow->pycaret) (3.0.4)\n",
      "Requirement already satisfied: cffi!=1.11.3,>=1.8 in c:\\users\\admin\\miniconda3\\lib\\site-packages (from cryptography>=2.1.4->azure-storage-blob>=12.0->mlflow->pycaret) (1.14.0)\n",
      "Requirement already satisfied: requests-oauthlib>=0.5.0 in c:\\users\\admin\\miniconda3\\lib\\site-packages (from msrest>=0.6.10->azure-storage-blob>=12.0->mlflow->pycaret) (1.3.0)\n",
      "Requirement already satisfied: isodate>=0.6.0 in c:\\users\\admin\\miniconda3\\lib\\site-packages (from msrest>=0.6.10->azure-storage-blob>=12.0->mlflow->pycaret) (0.6.0)\n",
      "Requirement already satisfied: pandocfilters>=1.4.1 in c:\\users\\admin\\miniconda3\\lib\\site-packages (from nbconvert->notebook>=4.4.1->widgetsnbextension~=3.5.0->ipywidgets->pycaret) (1.4.2)\n",
      "Requirement already satisfied: bleach in c:\\users\\admin\\miniconda3\\lib\\site-packages (from nbconvert->notebook>=4.4.1->widgetsnbextension~=3.5.0->ipywidgets->pycaret) (3.1.0)\n",
      "Requirement already satisfied: mistune<2,>=0.8.1 in c:\\users\\admin\\miniconda3\\lib\\site-packages (from nbconvert->notebook>=4.4.1->widgetsnbextension~=3.5.0->ipywidgets->pycaret) (0.8.4)\n",
      "Requirement already satisfied: testpath in c:\\users\\admin\\miniconda3\\lib\\site-packages (from nbconvert->notebook>=4.4.1->widgetsnbextension~=3.5.0->ipywidgets->pycaret) (0.4.4)\n",
      "Requirement already satisfied: defusedxml in c:\\users\\admin\\miniconda3\\lib\\site-packages (from nbconvert->notebook>=4.4.1->widgetsnbextension~=3.5.0->ipywidgets->pycaret) (0.6.0)\n",
      "Requirement already satisfied: pycparser in c:\\users\\admin\\miniconda3\\lib\\site-packages (from cffi!=1.11.3,>=1.8->cryptography>=2.1.4->azure-storage-blob>=12.0->mlflow->pycaret) (2.19)\n",
      "Requirement already satisfied: oauthlib>=3.0.0 in c:\\users\\admin\\miniconda3\\lib\\site-packages (from requests-oauthlib>=0.5.0->msrest>=0.6.10->azure-storage-blob>=12.0->mlflow->pycaret) (3.1.0)\n",
      "Requirement already satisfied: webencodings in c:\\users\\admin\\miniconda3\\lib\\site-packages (from bleach->nbconvert->notebook>=4.4.1->widgetsnbextension~=3.5.0->ipywidgets->pycaret) (0.5.1)\n"
     ]
    }
   ],
   "source": [
    "!pip install pycaret\n",
    "from pycaret.classification import *"
   ]
  },
  {
   "cell_type": "code",
   "execution_count": null,
   "metadata": {},
   "outputs": [],
   "source": [
    "model.add(layers.Flatten())\n",
    "model.add(layers.Dense(2, activation='softmax'))\n",
    "model.summary()"
   ]
  },
  {
   "cell_type": "code",
   "execution_count": null,
   "metadata": {},
   "outputs": [],
   "source": [
    "import pandas as pd\n",
    "\n",
    "df = pd.read_csv(r\"C:\\Users\\Admin\\Desktop\\1. Aliya Thesis\\DATASET\\Bluetooth\\MergedFinal1.csv\", header=None)\n",
    "\n",
    "print(\"Read {} rows.\".format(len(df)))\n",
    "\n",
    "df.dropna(inplace=True,axis=1) # For now, just drop NA's (rows with missing values)\n",
    "\n",
    "df.columns = [\n",
    "     'Frame_length_stored_into_the_capture_file_per_100msec',\n",
    "     'Length_per_100msec',\n",
    "   'L2CAP_count_per_100msec',\n",
    "   'HCI_ACL_count_per_100msec',\n",
    "  'HCI_EVT_count_per_100msec',\n",
    "   'Received_count_per_100msec',\n",
    "    'Sent_count_per_100msec',\n",
    "    'Command_Complete_count_per_100msec',\n",
    "    'Disconnect_complete_count_per_100msec',\n",
    "     'outcome'\n",
    "]\n",
    "\n",
    "def encode_numeric_zscore(df, name, mean=None, sd=None):\n",
    "    if mean is None:\n",
    "        mean = df[name].mean()\n",
    "\n",
    "    if sd is None:\n",
    "        sd = df[name].std()\n",
    "\n",
    "    df[name] = (df[name] - mean) / sd\n",
    "    \n",
    "encode_numeric_zscore(df, 'Frame_length_stored_into_the_capture_file_per_100msec')\n",
    "encode_numeric_zscore(df, 'Length_per_100msec')\n",
    "encode_numeric_zscore(df, 'L2CAP_count_per_100msec')\n",
    "encode_numeric_zscore(df, 'HCI_ACL_count_per_100msec')\n",
    "encode_numeric_zscore(df, 'HCI_EVT_count_per_100msec')\n",
    "encode_numeric_zscore(df, 'Received_count_per_100msec')\n",
    "encode_numeric_zscore(df, 'Sent_count_per_100msec')\n",
    "encode_numeric_zscore(df, 'Command_Complete_count_per_100msec')\n",
    "encode_numeric_zscore(df, 'Disconnect_complete_count_per_100msec')"
   ]
  },
  {
   "cell_type": "code",
   "execution_count": null,
   "metadata": {},
   "outputs": [],
   "source": [
    "x_columns = df.columns.drop('outcome')\n",
    "x = df[x_columns].values\n",
    "dummies = pd.get_dummies(df['outcome']) # Classification\n",
    "outcomes = dummies.columns\n",
    "num_classes = len(outcomes)\n",
    "y = dummies.values"
   ]
  },
  {
   "cell_type": "code",
   "execution_count": null,
   "metadata": {},
   "outputs": [],
   "source": [
    " Create a test/train split.  25% test\n",
    "# Split into train/test\n",
    "from tensorflow.keras.callbacks import EarlyStopping\n",
    "\n",
    "x_train, x_test, y_train, y_test = train_test_split(\n",
    "    x, y, test_size=0.25, random_state=42)\n",
    "\n",
    "x_train = np.reshape(x_train, (x_train.shape[0], x_train.shape[1], 1))\n",
    "x_test = np.reshape(x_test, (x_test.shape[0], x_test.shape[1], 1))\n",
    "batch_size = 100\n",
    "epochs = 5\n",
    "\n",
    "# model.compile(loss='mean_squared_error', optimizer='adam', metrics=['accuracy']) # gives 99 accuracy\n",
    "\n",
    "model.compile(loss='categorical_crossentropy', optimizer='sgd', metrics=['accuracy'])\n",
    "\n",
    "model.fit(x_train, y_train,\n",
    "           batch_size=batch_size,\n",
    "           epochs=epochs,\n",
    "           verbose=1\n",
    "           )\n",
    "\n",
    "#model.compile(loss='cross_entropy', optimizer = 'sgd', metrics=['accuracy'])\n",
    "#monitor = EarlyStopping(monitor='val_loss', min_delta=1e-3, patience=5, verbose=1, mode='auto')\n",
    "#model.fit(x_train,y_train,validation_data=(x_test,y_test), batch_size=batch_size, callbacks=[monitor],verbose=2,epochs=100)\n"
   ]
  },
  {
   "cell_type": "code",
   "execution_count": 8,
   "metadata": {},
   "outputs": [
    {
     "name": "stdout",
     "output_type": "stream",
     "text": [
      "8541/8541 [==============================] - 0s 33us/step\n",
      "Test loss: 0.021221970738475614\n",
      "Test accuracy: 0.992506742477417\n"
     ]
    }
   ],
   "source": [
    "test_loss, test_acc = model.evaluate(x_test, y_test)\n",
    "\n",
    "print('Test loss:', test_loss)\n",
    "print('Test accuracy:', test_acc)\n",
    "\n",
    "#without Z-score conversion = training accuracy 0.7933, Training Loss:0.5208\n",
    "#without Z-score conversion = testing accuracy 0.79943, Training Loss:0.50028\n",
    "#with Z-score conversion = training accuracy 0.9239, Training Loss:0.4998\n",
    "#with Z-score conversion = testing accuracy 0.9500, Training Loss:0.455197\n"
   ]
  },
  {
   "cell_type": "code",
   "execution_count": null,
   "metadata": {},
   "outputs": [],
   "source": [
    "# Measure accuracy\n",
    "from sklearn.metrics import recall_score\n",
    "from sklearn.metrics import precision_score\n",
    "from sklearn.metrics import f1_score\n",
    "pred = model.predict(x_test)\n",
    "pred = np.argmax(pred,axis=1)\n",
    "y_eval = np.argmax(y_test,axis=1)\n",
    "score = metrics.accuracy_score(y_eval, pred)\n",
    "recall = recall_score(y_eval, pred, average=\"binary\")\n",
    "precision = precision_score(y_eval, pred , average=\"binary\")\n",
    "f1 = f1_score(y_eval, pred, average=\"binary\")\n",
    "\n",
    "print(\"Validation score: {}\".format(score))\n",
    "print(\"Recall score: {}\".format(recall))\n",
    "print(\"Precision score: {}\".format(precision))\n",
    "print(\"F1 score: {}\".format(f1))"
   ]
  },
  {
   "cell_type": "code",
   "execution_count": null,
   "metadata": {},
   "outputs": [],
   "source": [
    "plt.subplot(211)\n",
    "plt.title('Loss')\n",
    "plt.plot(history.history['loss'], label='train')\n",
    "plt.plot(history.history['val_loss'], label='test')\n",
    "plt.legend()"
   ]
  },
  {
   "cell_type": "code",
   "execution_count": null,
   "metadata": {},
   "outputs": [],
   "source": [
    "from tensorflow.keras.callbacks import EarlyStopping\n",
    "\n",
    "model.compile(loss='binary_crossentropy', optimizer='adam', metrics=['accuracy'])\n",
    "monitor = EarlyStopping(monitor='val_loss', min_delta=1e-3, patience=5, verbose=1, mode='auto')\n",
    "# fit model\n",
    "history = model.fit(x_train,y_train,validation_data=(x_test,y_test),callbacks=[monitor],verbose=2,epochs=1000)"
   ]
  },
  {
   "cell_type": "code",
   "execution_count": null,
   "metadata": {},
   "outputs": [],
   "source": [
    "# plot accuracy during training\n",
    "plt.subplot(212)\n",
    "plt.title('Accuracy')\n",
    "plt.plot(history.history['accuracy'], label='train')\n",
    "plt.plot(history.history['val_accuracy'], label='test')\n",
    "plt.legend()\n",
    "plt.show()"
   ]
  },
  {
   "cell_type": "code",
   "execution_count": 36,
   "metadata": {},
   "outputs": [
    {
     "name": "stdout",
     "output_type": "stream",
     "text": [
      "              precision    recall  f1-score   support\n",
      "\n",
      "           0       1.00      1.00      1.00      6828\n",
      "           1       1.00      0.99      1.00      1713\n",
      "\n",
      "   micro avg       1.00      1.00      1.00      8541\n",
      "   macro avg       1.00      1.00      1.00      8541\n",
      "weighted avg       1.00      1.00      1.00      8541\n",
      "\n"
     ]
    }
   ],
   "source": [
    "from sklearn.metrics import classification_report\n",
    "print(classification_report(y_eval, pred))"
   ]
  },
  {
   "cell_type": "code",
   "execution_count": 38,
   "metadata": {},
   "outputs": [
    {
     "data": {
      "text/plain": [
       "array([[6826,    2],\n",
       "       [   9, 1704]], dtype=int64)"
      ]
     },
     "execution_count": 38,
     "metadata": {},
     "output_type": "execute_result"
    }
   ],
   "source": [
    "cnf_matrix = metrics.confusion_matrix(y_eval, pred)\n",
    "cnf_matrix"
   ]
  },
  {
   "cell_type": "code",
   "execution_count": 40,
   "metadata": {},
   "outputs": [
    {
     "ename": "NameError",
     "evalue": "name 'ax' is not defined",
     "output_type": "error",
     "traceback": [
      "\u001b[1;31m---------------------------------------------------------------------------\u001b[0m",
      "\u001b[1;31mNameError\u001b[0m                                 Traceback (most recent call last)",
      "\u001b[1;32m<ipython-input-40-6984e90b7599>\u001b[0m in \u001b[0;36m<module>\u001b[1;34m\u001b[0m\n\u001b[0;32m      1\u001b[0m \u001b[1;32mimport\u001b[0m \u001b[0mseaborn\u001b[0m \u001b[1;32mas\u001b[0m \u001b[0msns\u001b[0m\u001b[1;33m\u001b[0m\u001b[1;33m\u001b[0m\u001b[0m\n\u001b[0;32m      2\u001b[0m \u001b[0msns\u001b[0m\u001b[1;33m.\u001b[0m\u001b[0mheatmap\u001b[0m\u001b[1;33m(\u001b[0m\u001b[0mpd\u001b[0m\u001b[1;33m.\u001b[0m\u001b[0mDataFrame\u001b[0m\u001b[1;33m(\u001b[0m\u001b[0mcnf_matrix\u001b[0m\u001b[1;33m)\u001b[0m\u001b[1;33m,\u001b[0m \u001b[0mannot\u001b[0m\u001b[1;33m=\u001b[0m\u001b[1;32mTrue\u001b[0m\u001b[1;33m,\u001b[0m \u001b[0mcmap\u001b[0m\u001b[1;33m=\u001b[0m\u001b[1;34m\"RdYlGn\"\u001b[0m \u001b[1;33m,\u001b[0m\u001b[0mfmt\u001b[0m\u001b[1;33m=\u001b[0m\u001b[1;34m'd'\u001b[0m\u001b[1;33m,\u001b[0m \u001b[0mannot_kws\u001b[0m\u001b[1;33m=\u001b[0m\u001b[1;33m{\u001b[0m\u001b[1;34m\"size\"\u001b[0m\u001b[1;33m:\u001b[0m \u001b[1;36m15\u001b[0m\u001b[1;33m}\u001b[0m\u001b[1;33m)\u001b[0m\u001b[1;33m\u001b[0m\u001b[1;33m\u001b[0m\u001b[0m\n\u001b[1;32m----> 3\u001b[1;33m \u001b[0max\u001b[0m\u001b[1;33m.\u001b[0m\u001b[0mxaxis\u001b[0m\u001b[1;33m.\u001b[0m\u001b[0mset_label_position\u001b[0m\u001b[1;33m(\u001b[0m\u001b[1;34m\"top\"\u001b[0m\u001b[1;33m)\u001b[0m\u001b[1;33m\u001b[0m\u001b[1;33m\u001b[0m\u001b[0m\n\u001b[0m\u001b[0;32m      4\u001b[0m \u001b[0mplt\u001b[0m\u001b[1;33m.\u001b[0m\u001b[0mtight_layout\u001b[0m\u001b[1;33m(\u001b[0m\u001b[1;33m)\u001b[0m\u001b[1;33m\u001b[0m\u001b[1;33m\u001b[0m\u001b[0m\n\u001b[0;32m      5\u001b[0m \u001b[0mplt\u001b[0m\u001b[1;33m.\u001b[0m\u001b[0mtitle\u001b[0m\u001b[1;33m(\u001b[0m\u001b[1;34m'Confusion matrix'\u001b[0m\u001b[1;33m,\u001b[0m \u001b[0my\u001b[0m\u001b[1;33m=\u001b[0m\u001b[1;36m1.1\u001b[0m\u001b[1;33m)\u001b[0m\u001b[1;33m\u001b[0m\u001b[1;33m\u001b[0m\u001b[0m\n",
      "\u001b[1;31mNameError\u001b[0m: name 'ax' is not defined"
     ]
    },
    {
     "data": {
      "image/png": "[encoded data removed]",
      "text/plain": [
       "<Figure size 432x288 with 2 Axes>"
      ]
     },
     "metadata": {
      "needs_background": "light"
     },
     "output_type": "display_data"
    }
   ],
   "source": [
    "import seaborn as sns\n",
    "sns.heatmap(pd.DataFrame(cnf_matrix), annot=True, cmap=\"RdYlGn\" ,fmt='d', annot_kws={\"size\": 15})\n",
    "ax.xaxis.set_label_position(\"top\")\n",
    "\n",
    "plt.tight_layout()\n",
    "plt.title('Confusion matrix', y=1.1)\n",
    "plt.ylabel('Actual label', )\n",
    "plt.xlabel('Predicted label')"
   ]
  },
  {
   "cell_type": "code",
   "execution_count": 41,
   "metadata": {},
   "outputs": [
    {
     "data": {
      "image/png": "[encoded data removed]",
      "text/plain": [
       "<Figure size 432x288 with 1 Axes>"
      ]
     },
     "metadata": {
      "needs_background": "light"
     },
     "output_type": "display_data"
    }
   ],
   "source": [
    "fpr, tpr, _ = metrics.roc_curve(y_eval, pred)\n",
    "auc = metrics.roc_auc_score(y_eval, pred)\n",
    "plt.plot(fpr,tpr,label=\"data 1, auc=\"+str(auc))\n",
    "plt.legend(loc=4)\n",
    "plt.show()"
   ]
  },
  {
   "cell_type": "code",
   "execution_count": 44,
   "metadata": {},
   "outputs": [],
   "source": [
    "\n",
    "from matplotlib import pyplot\n",
    "\n",
    "## Performance Plot\n",
    "train_times={\n",
    "    'Isolation Forest': 4.38,\n",
    "    'KMeans':20.9,\n",
    "    'LOF':2.06,\n",
    "    'OneClass SVM': 21.4\n",
    "}\n",
    "\n",
    "prediction_times={\n",
    "    'Isolation Forest':34.2,\n",
    "    'KMeans':0.052,\n",
    "    'LOF':0.00368,\n",
    "    'OneClass SVM': 71\n",
    "}"
   ]
  },
  {
   "cell_type": "code",
   "execution_count": 45,
   "metadata": {},
   "outputs": [
    {
     "data": {
      "text/plain": [
       "Text(0.5, 0, 'Time in seconds')"
      ]
     },
     "execution_count": 45,
     "metadata": {},
     "output_type": "execute_result"
    },
    {
     "data": {
      "image/png": "[encoded data removed]",
      "text/plain": [
       "<Figure size 432x288 with 1 Axes>"
      ]
     },
     "metadata": {
      "needs_background": "light"
     },
     "output_type": "display_data"
    }
   ],
   "source": [
    "pyplot.title('Training Time')\n",
    "pyplot.barh(range(len(train_times)), list(train_times.values()), align='center')\n",
    "pyplot.yticks(range(len(train_times)), list(train_times.keys()))\n",
    "pyplot.xlabel('Time in seconds')"
   ]
  },
  {
   "cell_type": "code",
   "execution_count": 46,
   "metadata": {},
   "outputs": [
    {
     "data": {
      "text/plain": [
       "Text(0.5, 0, 'Time in seconds')"
      ]
     },
     "execution_count": 46,
     "metadata": {},
     "output_type": "execute_result"
    },
    {
     "data": {
      "image/png": "[encoded data removed]",
      "text/plain": [
       "<Figure size 432x288 with 1 Axes>"
      ]
     },
     "metadata": {
      "needs_background": "light"
     },
     "output_type": "display_data"
    }
   ],
   "source": [
    "pyplot.title('Prediction Time')\n",
    "pyplot.barh(range(len(prediction_times)), list(prediction_times.values()), align='center')\n",
    "pyplot.yticks(range(len(prediction_times)), list(prediction_times.keys()))\n",
    "pyplot.xlabel('Time in seconds')"
   ]
  },
  {
   "cell_type": "code",
   "execution_count": 15,
   "metadata": {},
   "outputs": [
    {
     "data": {
      "image/png": "[encoded data removed]",
      "text/plain": [
       "<Figure size 1440x720 with 1 Axes>"
      ]
     },
     "metadata": {
      "needs_background": "light"
     },
     "output_type": "display_data"
    }
   ],
   "source": [
    "%matplotlib inline\n",
    "from matplotlib import pyplot as plt\n",
    "import pandas as pd\n",
    "\n",
    "s = pd.Series([1,2,3], index=['a','b','c'])\n",
    "\n",
    "s.plot.bar(figsize=(20,10))\n",
    "plt.xlabel('Foo')\n",
    "plt.ylabel('Bar')\n",
    "plt.title(\"Hello World\");"
   ]
  },
  {
   "cell_type": "code",
   "execution_count": null,
   "metadata": {},
   "outputs": [],
   "source": [
    "clf1 = setup(train_data, target = 'Survived', ignore_features = ['Ticket', 'Name', 'PassengerId'], silent = True, session_id = 786) "
   ]
  }
 ],
 "metadata": {
  "kernelspec": {
   "display_name": "Python 3 (ipykernel)",
   "language": "python",
   "name": "python3"
  },
  "language_info": {
   "codemirror_mode": {
    "name": "ipython",
    "version": 3
   },
   "file_extension": ".py",
   "mimetype": "text/x-python",
   "name": "python",
   "nbconvert_exporter": "python",
   "pygments_lexer": "ipython3",
   "version": "3.9.16"
  }
 },
 "nbformat": 4,
 "nbformat_minor": 2
}
