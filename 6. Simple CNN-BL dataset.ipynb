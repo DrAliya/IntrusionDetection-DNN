{
 "cells": [
  {
   "cell_type": "code",
   "execution_count": 1,
   "metadata": {},
   "outputs": [
    {
     "name": "stderr",
     "output_type": "stream",
     "text": [
      "Using TensorFlow backend.\n"
     ]
    }
   ],
   "source": [
    "import numpy as np\n",
    "import pandas as pd\n",
    "from sklearn.model_selection import train_test_split\n",
    "from sklearn import metrics\n",
    "from keras import layers\n",
    "from keras import models\n",
    "from tensorflow.keras.models import Sequential\n",
    "from tensorflow.keras.layers import Dense, Activation\n",
    "#CNN\n",
    "from keras.models import Sequential,Input, Model\n",
    "from keras.layers import Dense, Dropout, Flatten\n",
    "from keras.layers import Conv1D, GlobalMaxPooling1D\n",
    "from keras import optimizers\n",
    "from keras.layers.normalization import BatchNormalization\n",
    "from keras.layers.advanced_activations import LeakyReLU\n",
    "\n",
    "import matplotlib.pyplot as plt\n",
    "%matplotlib inline"
   ]
  },
  {
   "cell_type": "code",
   "execution_count": 2,
   "metadata": {},
   "outputs": [
    {
     "data": {
      "text/plain": [
       "'2.3.1'"
      ]
     },
     "execution_count": 2,
     "metadata": {},
     "output_type": "execute_result"
    }
   ],
   "source": [
    "import keras\n",
    "keras.__version__"
   ]
  },
  {
   "cell_type": "code",
   "execution_count": 13,
   "metadata": {},
   "outputs": [],
   "source": [
    "# Basic CNN model -1D - kernel_size is required\n",
    "model = models.Sequential()\n",
    "model.add(layers.Conv1D(32, kernel_size=2, activation='relu', input_shape=(9, 1)))\n",
    "model.add(layers.MaxPooling1D(2))"
   ]
  },
  {
   "cell_type": "code",
   "execution_count": 14,
   "metadata": {},
   "outputs": [
    {
     "name": "stdout",
     "output_type": "stream",
     "text": [
      "Model: \"sequential_3\"\n",
      "_________________________________________________________________\n",
      "Layer (type)                 Output Shape              Param #   \n",
      "=================================================================\n",
      "conv1d_3 (Conv1D)            (None, 8, 32)             96        \n",
      "_________________________________________________________________\n",
      "max_pooling1d_3 (MaxPooling1 (None, 4, 32)             0         \n",
      "_________________________________________________________________\n",
      "flatten_3 (Flatten)          (None, 128)               0         \n",
      "_________________________________________________________________\n",
      "dense_3 (Dense)              (None, 2)                 258       \n",
      "=================================================================\n",
      "Total params: 354\n",
      "Trainable params: 354\n",
      "Non-trainable params: 0\n",
      "_________________________________________________________________\n"
     ]
    }
   ],
   "source": [
    "model.add(layers.Flatten())\n",
    "model.add(layers.Dense(2, activation='softmax'))\n",
    "model.summary()"
   ]
  },
  {
   "cell_type": "code",
   "execution_count": 19,
   "metadata": {},
   "outputs": [
    {
     "name": "stdout",
     "output_type": "stream",
     "text": [
      "Read 34163 rows.\n"
     ]
    }
   ],
   "source": [
    "import pandas as pd\n",
    "\n",
    "df = pd.read_csv(r\"C:\\Users\\Admin\\Desktop\\Year2019-20\\PhD Thesis\\DATASET\\Bluetooth\\MergedFinal1.csv\", header=None)\n",
    "\n",
    "print(\"Read {} rows.\".format(len(df)))\n",
    "\n",
    "df.dropna(inplace=True,axis=1) # For now, just drop NA's (rows with missing values)\n",
    "\n",
    "df.columns = [\n",
    "     'Frame_length_stored_into_the_capture_file_per_100msec',\n",
    "     'Length_per_100msec',\n",
    "   'L2CAP_count_per_100msec',\n",
    "   'HCI_ACL_count_per_100msec',\n",
    "  'HCI_EVT_count_per_100msec',\n",
    "   'Received_count_per_100msec',\n",
    "    'Sent_count_per_100msec',\n",
    "    'Command_Complete_count_per_100msec',\n",
    "    'Disconnect_complete_count_per_100msec',\n",
    "     'outcome'\n",
    "]\n",
    "\n",
    "def encode_numeric_zscore(df, name, mean=None, sd=None):\n",
    "    if mean is None:\n",
    "        mean = df[name].mean()\n",
    "\n",
    "    if sd is None:\n",
    "        sd = df[name].std()\n",
    "\n",
    "    df[name] = (df[name] - mean) / sd\n",
    "    \n",
    "encode_numeric_zscore(df, 'Frame_length_stored_into_the_capture_file_per_100msec')\n",
    "encode_numeric_zscore(df, 'Length_per_100msec')\n",
    "encode_numeric_zscore(df, 'L2CAP_count_per_100msec')\n",
    "encode_numeric_zscore(df, 'HCI_ACL_count_per_100msec')\n",
    "encode_numeric_zscore(df, 'HCI_EVT_count_per_100msec')\n",
    "encode_numeric_zscore(df, 'Received_count_per_100msec')\n",
    "encode_numeric_zscore(df, 'Sent_count_per_100msec')\n",
    "encode_numeric_zscore(df, 'Command_Complete_count_per_100msec')\n",
    "encode_numeric_zscore(df, 'Disconnect_complete_count_per_100msec')"
   ]
  },
  {
   "cell_type": "code",
   "execution_count": 20,
   "metadata": {},
   "outputs": [],
   "source": [
    "x_columns = df.columns.drop('outcome')\n",
    "x = df[x_columns].values\n",
    "dummies = pd.get_dummies(df['outcome']) # Classification\n",
    "outcomes = dummies.columns\n",
    "num_classes = len(outcomes)\n",
    "y = dummies.values"
   ]
  },
  {
   "cell_type": "code",
   "execution_count": 21,
   "metadata": {},
   "outputs": [
    {
     "name": "stdout",
     "output_type": "stream",
     "text": [
      "Epoch 1/5\n",
      "25622/25622 [==============================] - 0s 18us/step - loss: 40.6618 - accuracy: 0.6883\n",
      "Epoch 2/5\n",
      "25622/25622 [==============================] - 0s 18us/step - loss: 3.0621 - accuracy: 0.8045\n",
      "Epoch 3/5\n",
      "25622/25622 [==============================] - 0s 16us/step - loss: 1.0062 - accuracy: 0.8878\n",
      "Epoch 4/5\n",
      "25622/25622 [==============================] - 0s 16us/step - loss: 0.6101 - accuracy: 0.9179\n",
      "Epoch 5/5\n",
      "25622/25622 [==============================] - 0s 15us/step - loss: 0.4998 - accuracy: 0.9239\n"
     ]
    },
    {
     "data": {
      "text/plain": [
       "<keras.callbacks.callbacks.History at 0x1966b2f0cc8>"
      ]
     },
     "execution_count": 21,
     "metadata": {},
     "output_type": "execute_result"
    }
   ],
   "source": [
    "# Create a test/train split.  25% test\n",
    "# Split into train/test\n",
    "x_train, x_test, y_train, y_test = train_test_split(\n",
    "    x, y, test_size=0.25, random_state=42)\n",
    "\n",
    "x_train = np.reshape(x_train, (x_train.shape[0], x_train.shape[1], 1))\n",
    "x_test = np.reshape(x_test, (x_test.shape[0], x_test.shape[1], 1))\n",
    "batch_size = 100\n",
    "epochs = 5\n",
    "\n",
    "model.compile(loss='categorical_crossentropy',\n",
    "              optimizer='sgd',\n",
    "              metrics=['accuracy'])\n",
    "\n",
    "model.fit(x_train, y_train,\n",
    "          batch_size=batch_size,\n",
    "          epochs=epochs,\n",
    "          verbose=1\n",
    "          )"
   ]
  },
  {
   "cell_type": "code",
   "execution_count": 23,
   "metadata": {},
   "outputs": [
    {
     "name": "stdout",
     "output_type": "stream",
     "text": [
      "8541/8541 [==============================] - 0s 22us/step\n",
      "Test loss: 0.45519767317497517\n",
      "Test accuracy: 0.950005829334259\n"
     ]
    }
   ],
   "source": [
    "test_loss, test_acc = model.evaluate(x_test, y_test)\n",
    "\n",
    "print('Test loss:', test_loss)\n",
    "print('Test accuracy:', test_acc)\n",
    "\n",
    "#without Z-score conversion = training accuracy 0.7933, Training Loss:0.5208\n",
    "#without Z-score conversion = testing accuracy 0.79943, Training Loss:0.50028\n",
    "#with Z-score conversion = training accuracy 0.9239, Training Loss:0.4998\n",
    "#with Z-score conversion = testing accuracy 0.9500, Training Loss:0.455197\n"
   ]
  },
  {
   "cell_type": "code",
   "execution_count": null,
   "metadata": {},
   "outputs": [],
   "source": []
  }
 ],
 "metadata": {
  "kernelspec": {
   "display_name": "Python 3 (ipykernel)",
   "language": "python",
   "name": "python3"
  },
  "language_info": {
   "codemirror_mode": {
    "name": "ipython",
    "version": 3
   },
   "file_extension": ".py",
   "mimetype": "text/x-python",
   "name": "python",
   "nbconvert_exporter": "python",
   "pygments_lexer": "ipython3",
   "version": "3.9.16"
  }
 },
 "nbformat": 4,
 "nbformat_minor": 2
}
